{
  "nbformat": 4,
  "nbformat_minor": 0,
  "metadata": {
    "colab": {
      "provenance": []
    },
    "kernelspec": {
      "name": "python3",
      "display_name": "Python 3"
    },
    "language_info": {
      "name": "python"
    }
  },
  "cells": [
    {
      "cell_type": "markdown",
      "source": [
        "1.What are data structures, and why are they important?\n",
        "Ans: Data structures are specialized formats for organizing, storing, and accessing collections of data. They provide efficient ways to manage information based on its characteristics and intended use.\n",
        "Think of them as containers that hold your data and determine how you can interact with it. Different containers are better suited for different types of items.\n",
        "It is important because :Choosing the right data structure significantly impacts the efficiency and performance of your program.\n",
        "Well-chosen data structures can:\n",
        "Simplify data manipulation (adding, removing, modifying elements)\n",
        "Optimize searching and sorting operations\n",
        "Conserve memory usage"
      ],
      "metadata": {
        "id": "o3GkqvQhz2wY"
      }
    },
    {
      "cell_type": "markdown",
      "source": [
        "2.Explain the difference between mutable and immutable data types with examples?\n",
        "Ans:\n",
        "Mutable data types can be modified after they are created, while immutable data types cannot. e.g.:\n",
        "For mutable data types:\n",
        "my_list =my_list.append(4)\n",
        "    print(my_list)\n",
        "    my_list = 10\n",
        "    print(my_list)\n",
        "\n",
        "For Immutable data types:\n",
        "    my_string = \"hello\"\n",
        "    my_string = 'j'  \n",
        "    my_string = \"jello\"\n",
        "    print(my_string)"
      ],
      "metadata": {
        "id": "-pNic5KJz6iW"
      }
    },
    {
      "cell_type": "markdown",
      "source": [
        "3.What are the main differences between lists and tuples in Python?\n",
        "Ans:\n",
        "List\n",
        "1. Lists are mutable(can be modified).\n",
        "2\tIteration over lists is time-consuming.\n",
        "3\tLists are better for performing operations, such as insertion and deletion.\n",
        "4\tLists consume more memory.\n",
        "5\tLists have several built-in methods.\n",
        "6.Lists are more prone to unexpected changes and errors.\n",
        "Tuple\n",
        "1. Tuples are immutable(cannot be modified).\n",
        "2. Iterations over tuple is faster\n",
        "3. Tuples are more suitable for accessing elements efficiently.\n",
        "4. Tuples consumes less memory\n",
        "5. Tuples have fewer built-in methods.\n",
        "6. Tuples, being immutable are less error prone."
      ],
      "metadata": {
        "id": "I17oDcUzz9eo"
      }
    },
    {
      "cell_type": "markdown",
      "source": [
        "4. Describe how dictionaries store data?\n",
        "Ans:\n",
        "Dictionaries are used to store data values in key:value pairs. A dictionary is a collection which is ordered*, changeable and do not allow duplicates. As of Python version 3.7, dictionaries are ordered. In Python 3.6 and earlier, dictionaries are unordered.\n"
      ],
      "metadata": {
        "id": "iLhDtJTh0yfY"
      }
    },
    {
      "cell_type": "markdown",
      "source": [
        "5. Why might you use a set instead of a list in Python?\n",
        "Ans:\n",
        "We use a set instead of a list in Python because sets cannot have multiple occurrences of the same element, it makes sets highly useful to efficiently remove duplicate values from a list or tuple and to perform common math operations like unions and intersections.\n"
      ],
      "metadata": {
        "id": "g56EP4ii10cu"
      }
    },
    {
      "cell_type": "markdown",
      "source": [
        "6. What is a string in Python, and how is it different from a list?\n",
        "Ans:\n",
        "A string is a sequence of characters. A list a sequence of values which can be characters, integers or even another list (referred to as a nested list). A dictionary is a more general version of a list and is made up a set of keys and values where there is a mapping between a given key and its corresponding value.\n"
      ],
      "metadata": {
        "id": "9vgyaBrz12yg"
      }
    },
    {
      "cell_type": "markdown",
      "source": [
        "7. How do tuples ensure data integrity in Python?\n",
        "Ans:\n",
        "Tuples in Python are immutable, meaning once they are created, they cannot be changed. This characteristic can be leveraged for data integrity by using tuples for data that should not be modified after creation."
      ],
      "metadata": {
        "id": "AFn-DyZ514ss"
      }
    },
    {
      "cell_type": "markdown",
      "source": [
        "8. What is a hash table, and how does it relate to dictionaries in Python?\n",
        "Ans:\n",
        "In Python, the Dictionary data types represent the implementation of hash tables. The Keys in the dictionary are hashable–they are generated by a hash function which generates a unique result for each unique value supplied to the hash function.\n"
      ],
      "metadata": {
        "id": "kYJ-lNcM16wF"
      }
    },
    {
      "cell_type": "markdown",
      "source": [
        "9. Can lists contain different data types in Python?\n",
        "Ans:\n",
        "Yes, lists in Python can contain elements of different data types. This is a key feature of Python lists, making them highly versatile for storing various kinds of information within a single collection."
      ],
      "metadata": {
        "id": "34ZXBu1G19U6"
      }
    },
    {
      "cell_type": "markdown",
      "source": [
        "10.  Explain why strings are immutable in Python?\n",
        "Ans:\n",
        "Python strings are \"immutable\" which means they cannot be changed after they are created (Java strings also use this immutable style). Since strings can't be changed, we construct *new* strings as we go to represent computed values.\n"
      ],
      "metadata": {
        "id": "PtquXz8N1-1-"
      }
    },
    {
      "cell_type": "markdown",
      "source": [
        "11.  What advantages do dictionaries offer over lists for certain tasks?\n",
        "Ans:\n",
        "Dictionaries and lists are two fundamental data structures in Python, each with its unique strengths and weaknesses. Dictionaries excel in scenarios requiring fast lookups, key-value associations, and complex data mappings, while lists are ideal for ordered collections, sequential processing, and simple data storage."
      ],
      "metadata": {
        "id": "MDMtt5sA2AI_"
      }
    },
    {
      "cell_type": "markdown",
      "source": [
        "12. Describe a scenario where using a tuple would be preferable over a list?\n",
        "Ans:\n",
        "Tuples are immutable. Hence, they are primarily used to store data that doesn't change frequently. Any operation can store data in a tuple when you don't want it to change. Tuples are great to use if you want the data in your collection to be read-only, never to change, and always remain the same and constant."
      ],
      "metadata": {
        "id": "gQfzKU7I2DL_"
      }
    },
    {
      "cell_type": "markdown",
      "source": [
        "13. How do sets handle duplicate values in Python?\n",
        "Ans:\n",
        "Python sets are inherently designed to store only unique elements. This means that if you attempt to add a duplicate value to a set, the set will automatically ignore the duplicate and only retain one instance of that value.\n",
        "\n",
        "# Creating a set with duplicates\n",
        "    my_list = [1, 2, 2, 3, 4, 4, 5]\n",
        "    my_set = set(my_list)\n",
        "    print(my_set)\n",
        "    # Output: {1, 2, 3, 4, 5} (order may vary)\n",
        "\n",
        "    # Adding a duplicate to an existing set\n",
        "    my_set.add(3)\n",
        "    print(my_set)\n",
        "    # Output: {1, 2, 3, 4, 5} (no change, as 3 already exists)\n"
      ],
      "metadata": {
        "id": "YGzW_E_a2JUK"
      }
    },
    {
      "cell_type": "markdown",
      "source": [
        "14. How does the “in” keyword work differently for lists and dictionaries?\n",
        "Ans:\n",
        "The key of the dictionary is a unique value as well as the set, and the execution time is about the same as for sets. On the other hand, dictionary values can be duplicated like a list. The execution time of in for values() is about the same as for lists. Key-value pairs are unique."
      ],
      "metadata": {
        "id": "eojgiQBr2MB_"
      }
    },
    {
      "cell_type": "markdown",
      "source": [
        "15.  Can you modify the elements of a tuple? Explain why or why not?\n",
        "Ans:No, you cannot directly modify the elements of a tuple in Python. Tuples are immutable, meaning their contents cannot be changed after creation. This immutability is a core characteristic of tuples."
      ],
      "metadata": {
        "id": "3d2Psf6h2N-m"
      }
    },
    {
      "cell_type": "markdown",
      "source": [
        "16. What is a nested dictionary, and give an example of its use case?\n",
        "Ans:\n",
        "A nested dictionary is a dictionary where at least one of the values is itself a dictionary. It's a way to represent hierarchical or structured data within a dictionary structure. This allows you to organize and access complex information efficiently."
      ],
      "metadata": {
        "id": "O8MV7nKE2Pv3"
      }
    },
    {
      "cell_type": "markdown",
      "source": [
        "17. Describe the time complexity of accessing elements in a dictionary?\n",
        "Ans:\n",
        "Accessing elements in a dictionary (also known as a hash map or associative array) typically has a time complexity of O(1) on average, which means it takes constant time regardless of the dictionary's size. This is because dictionaries use a hash table internally to store and retrieve data, and hash table lookups are generally very fast.\n"
      ],
      "metadata": {
        "id": "MmqaqYzM2RYb"
      }
    },
    {
      "cell_type": "markdown",
      "source": [
        "18. In what situations are lists preferred over dictionaries?\n",
        "Ans:\n",
        "For quick data look-ups, configurations, or caches, favor dictionaries. For ordered collections and sequence operations, such as maintaining a stack or queue, lists are more suitable."
      ],
      "metadata": {
        "id": "1ybBCpey2UCj"
      }
    },
    {
      "cell_type": "markdown",
      "source": [
        "19. Why are dictionaries considered unordered, and how does that affect data retrieval?\n",
        "Ans:\n",
        "Dictionary is termed as an unordered collection of object because the printed order of elements is not same as the order in which the elements are stored."
      ],
      "metadata": {
        "id": "oWRt8dDf2WBP"
      }
    },
    {
      "cell_type": "markdown",
      "source": [
        "20.Explain the difference between a list and a dictionary in terms of data retrieval.\n",
        "Ans:\n",
        "Lists in Python\n",
        "In Python, a list is a built-in dynamic sized array (automatically grows and shrinks). We can store all types of items (including another list) in a list. A list may contain mixed type of items, this is possible because a list mainly stores references at contiguous locations and actual items maybe stored at different locations.\n",
        "\n",
        "Dictionary in Python\n",
        "A Python dictionary is a data structure that stores the value in key: value pairs. Values in a dictionary can be of any data type and can be duplicated, whereas keys can’t be repeated and must be immutable."
      ],
      "metadata": {
        "id": "T5_pw2douO9M"
      }
    },
    {
      "cell_type": "code",
      "source": [
        "#1.Write a code to create a string with your name and print it?\n",
        "#Ans:\n",
        "\n",
        "a = \"Pubalee\"\n",
        "print(a)\n"
      ],
      "metadata": {
        "colab": {
          "base_uri": "https://localhost:8080/"
        },
        "id": "tmRLQyhk3MJQ",
        "outputId": "5d9bbc2b-082b-43cb-d405-0a9427e86ae8"
      },
      "execution_count": null,
      "outputs": [
        {
          "output_type": "stream",
          "name": "stdout",
          "text": [
            "Pubalee\n"
          ]
        }
      ]
    },
    {
      "cell_type": "code",
      "source": [
        "#2. Write a code to find the length of the string \"Hello World\"?\n",
        "#Ans:\n",
        "string = \"hello world\"\n",
        "length = len(string)\n",
        "print(length)"
      ],
      "metadata": {
        "colab": {
          "base_uri": "https://localhost:8080/"
        },
        "id": "Yttdg9am3P0o",
        "outputId": "28354d8b-36fc-465a-c53b-11efce8f5074"
      },
      "execution_count": null,
      "outputs": [
        {
          "output_type": "stream",
          "name": "stdout",
          "text": [
            "11\n"
          ]
        }
      ]
    },
    {
      "cell_type": "code",
      "source": [
        "#3. Write a code to slice the first 3 characters from the string \"Python Programming\"?\n",
        "#Ans:\n",
        "original_string = \"Python Programming\"\n",
        "sliced_string = original_string[:3]\n",
        "print(sliced_string)\n"
      ],
      "metadata": {
        "colab": {
          "base_uri": "https://localhost:8080/"
        },
        "id": "lcYg5BD33V4F",
        "outputId": "ac2d9a93-b064-4b84-aed7-17dc785a4144"
      },
      "execution_count": null,
      "outputs": [
        {
          "output_type": "stream",
          "name": "stdout",
          "text": [
            "Pyt\n"
          ]
        }
      ]
    },
    {
      "cell_type": "code",
      "source": [
        "#4. Write a code to convert the string \"hello\" to uppercase?\n",
        "#Ans:\n",
        "original_string = \"hello\"\n",
        "uppercase_string = original_string.upper()\n",
        "print(uppercase_string)\n"
      ],
      "metadata": {
        "colab": {
          "base_uri": "https://localhost:8080/"
        },
        "id": "xMd9x22g3Xpd",
        "outputId": "823c6e33-2139-4484-eeac-b2c2a21effab"
      },
      "execution_count": null,
      "outputs": [
        {
          "output_type": "stream",
          "name": "stdout",
          "text": [
            "HELLO\n"
          ]
        }
      ]
    },
    {
      "cell_type": "code",
      "source": [
        "#5. Write a code to replace the word \"apple\" with \"orange\" in the string \"I like apple\"?\n",
        "#Ans:\n",
        "a = [\"I like apple\"]\n",
        "a[0]=a[0].replace(\"apple\",\"orange\")\n",
        "print(a)"
      ],
      "metadata": {
        "colab": {
          "base_uri": "https://localhost:8080/"
        },
        "id": "e94Ye3wX3ZzC",
        "outputId": "892c103e-a3a4-4565-9b0e-b850613a4703"
      },
      "execution_count": null,
      "outputs": [
        {
          "output_type": "stream",
          "name": "stdout",
          "text": [
            "['I like orange']\n"
          ]
        }
      ]
    },
    {
      "cell_type": "code",
      "source": [
        "#6.  Write a code to create a list with numbers 1 to 5 and print it?\n",
        "#Ans:\n",
        "r1 = 1\n",
        "r2 = 6\n",
        "\n",
        "li = list(range(r1,r2))\n",
        "print(li)"
      ],
      "metadata": {
        "colab": {
          "base_uri": "https://localhost:8080/"
        },
        "id": "wqud-3x43cmo",
        "outputId": "b55d07cd-92e8-4b61-a211-014c4f02cbe9"
      },
      "execution_count": null,
      "outputs": [
        {
          "output_type": "stream",
          "name": "stdout",
          "text": [
            "[1, 2, 3, 4, 5]\n"
          ]
        }
      ]
    },
    {
      "cell_type": "code",
      "source": [
        "#7.  Write a code to append the number 10 to the list [1, 2, 3, 4]?\n",
        "#Ans:\n",
        "my_list = [1, 2, 3, 4]\n",
        "my_list.append(10)\n",
        "print(my_list)"
      ],
      "metadata": {
        "colab": {
          "base_uri": "https://localhost:8080/"
        },
        "id": "8W79xuRg3ecm",
        "outputId": "782c1211-d200-49a0-d642-5bbfcf15216e"
      },
      "execution_count": null,
      "outputs": [
        {
          "output_type": "stream",
          "name": "stdout",
          "text": [
            "[1, 2, 3, 4, 10]\n"
          ]
        }
      ]
    },
    {
      "cell_type": "code",
      "source": [
        "#8. Write a code to remove the number 3 from the list [1, 2, 3, 4, 5]?\n",
        "#Ans:\n",
        "a = [1, 2, 3, 4, 5]\n",
        "k = 2\n",
        "del a[-k:]\n",
        "print(a)"
      ],
      "metadata": {
        "colab": {
          "base_uri": "https://localhost:8080/"
        },
        "id": "cOIdnU0L3f1H",
        "outputId": "ed4ba996-e8e9-476e-d1eb-09f2cd528602"
      },
      "execution_count": null,
      "outputs": [
        {
          "output_type": "stream",
          "name": "stdout",
          "text": [
            "[1, 2, 3]\n"
          ]
        }
      ]
    },
    {
      "cell_type": "code",
      "source": [
        "#9.  Write a code to access the second element in the list ['a', 'b', 'c', 'd']?\n",
        "#Ans:\n",
        "my_list = ['a', 'b', 'c', 'd']\n",
        "second_element = my_list[1]\n",
        "print(second_element)"
      ],
      "metadata": {
        "colab": {
          "base_uri": "https://localhost:8080/"
        },
        "id": "sVzNejGD3iho",
        "outputId": "332f0dd8-5327-4f4b-ae77-89bdf22704da"
      },
      "execution_count": null,
      "outputs": [
        {
          "output_type": "stream",
          "name": "stdout",
          "text": [
            "b\n"
          ]
        }
      ]
    },
    {
      "cell_type": "code",
      "source": [
        "#10.  Write a code to reverse the list [10, 20, 30, 40, 50].\n",
        "#Ans:\n",
        "a = [1, 2, 3, 4, 5]\n",
        "\n",
        "# Reverse the list in-place\n",
        "a.reverse()\n",
        "print(a)"
      ],
      "metadata": {
        "colab": {
          "base_uri": "https://localhost:8080/"
        },
        "id": "zIxhR8eP3lLt",
        "outputId": "0f91b221-0ed0-4aec-dac2-db06cc69014a"
      },
      "execution_count": null,
      "outputs": [
        {
          "output_type": "stream",
          "name": "stdout",
          "text": [
            "[5, 4, 3, 2, 1]\n"
          ]
        }
      ]
    },
    {
      "cell_type": "code",
      "source": [
        "#11. Write a code to create a tuple with the elements 100, 200, 300 and print it.\n",
        "#Ans:\n",
        "my_tuple = (100, 200, 300)\n",
        "print(my_tuple)"
      ],
      "metadata": {
        "colab": {
          "base_uri": "https://localhost:8080/"
        },
        "id": "Te1RDm6B3nM3",
        "outputId": "8f3bf8b0-c541-4c77-bb1c-dad9525cb162"
      },
      "execution_count": null,
      "outputs": [
        {
          "output_type": "stream",
          "name": "stdout",
          "text": [
            "(100, 200, 300)\n"
          ]
        }
      ]
    },
    {
      "cell_type": "code",
      "source": [
        "#12. Write a code to access the second-to-last element of the tuple ('red', 'green', 'blue', 'yellow').\n",
        "#Ans:\n",
        "\n",
        "my_tuple = ('red', 'green', 'blue', 'yellow')\n",
        "second_to_last = my_tuple[-2]\n",
        "print(second_to_last)"
      ],
      "metadata": {
        "colab": {
          "base_uri": "https://localhost:8080/"
        },
        "id": "IoO4uHrU3pBU",
        "outputId": "efc019f2-8986-4005-a6d1-236639f0036a"
      },
      "execution_count": null,
      "outputs": [
        {
          "output_type": "stream",
          "name": "stdout",
          "text": [
            "blue\n"
          ]
        }
      ]
    },
    {
      "cell_type": "code",
      "source": [
        "#13. Write a code to find the minimum number in the tuple (10, 20, 5, 15).\n",
        "#Ans:\n",
        "numbers = (10, 20, 5, 15)\n",
        "minimum_number = min(numbers)\n",
        "print(minimum_number)\n"
      ],
      "metadata": {
        "colab": {
          "base_uri": "https://localhost:8080/"
        },
        "id": "_DInYCP93rCM",
        "outputId": "1acab27a-a2d5-40e3-f358-9e7100efa84f"
      },
      "execution_count": null,
      "outputs": [
        {
          "output_type": "stream",
          "name": "stdout",
          "text": [
            "5\n"
          ]
        }
      ]
    },
    {
      "cell_type": "code",
      "source": [
        "#14. Write a code to find the index of the element \"cat\" in the tuple ('dog', 'cat', 'rabbit').\n",
        "#Ans:\n",
        "animals = ['dog', 'cat', 'rabbit']\n",
        "\n",
        "\n",
        "index = animals.index('cat')\n",
        "\n",
        "print(index)\n"
      ],
      "metadata": {
        "colab": {
          "base_uri": "https://localhost:8080/"
        },
        "id": "nWngWWJS3smj",
        "outputId": "7eccf110-f5de-4978-982b-80bbb71aff35"
      },
      "execution_count": null,
      "outputs": [
        {
          "output_type": "stream",
          "name": "stdout",
          "text": [
            "1\n"
          ]
        }
      ]
    },
    {
      "cell_type": "code",
      "source": [
        "#15. Write a code to create a tuple containing three different fruits and check if \"kiwi\" is in it.\n",
        "#Ans:\n",
        "\n",
        "thistuple = (\"apple\", \"banana\", \"kiwi\")\n",
        "if \"kiwi\" in thistuple:\n",
        "  print(\"yes\")"
      ],
      "metadata": {
        "colab": {
          "base_uri": "https://localhost:8080/"
        },
        "id": "WYkWibES3udv",
        "outputId": "ff67ef03-28a4-4862-d468-78323679b48c"
      },
      "execution_count": null,
      "outputs": [
        {
          "output_type": "stream",
          "name": "stdout",
          "text": [
            "yes\n"
          ]
        }
      ]
    },
    {
      "cell_type": "code",
      "source": [
        "#16. Write a code to create a set with the elements 'a', 'b', 'c' and print it.\n",
        "#Ans:\n",
        "set1 = {'a','b','c'}\n",
        "print(set1)"
      ],
      "metadata": {
        "colab": {
          "base_uri": "https://localhost:8080/"
        },
        "id": "iRWYrhKs3xBY",
        "outputId": "e75e26cc-1d39-4d18-8ca1-df456d006fd2"
      },
      "execution_count": null,
      "outputs": [
        {
          "output_type": "stream",
          "name": "stdout",
          "text": [
            "{'c', 'a', 'b'}\n"
          ]
        }
      ]
    },
    {
      "cell_type": "code",
      "source": [
        "#17. Write a code to clear all elements from the set {1, 2, 3, 4, 5}.\n",
        "#Ans:\n",
        "a = {1, 2, 3, 4, 5}\n",
        "a.clear()\n",
        "print(a)"
      ],
      "metadata": {
        "colab": {
          "base_uri": "https://localhost:8080/"
        },
        "id": "AGuVROXu3yxK",
        "outputId": "ec060d52-92b7-4092-cd43-6173d25e0017"
      },
      "execution_count": null,
      "outputs": [
        {
          "output_type": "stream",
          "name": "stdout",
          "text": [
            "set()\n"
          ]
        }
      ]
    },
    {
      "cell_type": "code",
      "source": [
        "#18. Write a code to remove the element 4 from the set {1, 2, 3, 4}.\n",
        "#Ans:\n",
        "\n",
        "my_set = {1, 2, 3, 4}\n",
        "my_set.remove(4)\n",
        "print(my_set)"
      ],
      "metadata": {
        "colab": {
          "base_uri": "https://localhost:8080/"
        },
        "id": "ck0tr5I030jw",
        "outputId": "8038abd8-b6a2-4ef8-fcf8-487cd40e504f"
      },
      "execution_count": null,
      "outputs": [
        {
          "output_type": "stream",
          "name": "stdout",
          "text": [
            "{1, 2, 3}\n"
          ]
        }
      ]
    },
    {
      "cell_type": "code",
      "source": [
        "#19. Write a code to find the union of two sets {1, 2, 3} and {3, 4, 5}.\n",
        "#Ans:\n",
        "A = {1,2,3}\n",
        "B = {3,4,5}\n",
        "print('A U B = ', A.union(B))\n"
      ],
      "metadata": {
        "colab": {
          "base_uri": "https://localhost:8080/"
        },
        "id": "HyOgLqXb324y",
        "outputId": "fdf4e56a-ef19-458f-9bdd-4d2fe0131626"
      },
      "execution_count": null,
      "outputs": [
        {
          "output_type": "stream",
          "name": "stdout",
          "text": [
            "A U B =  {1, 2, 3, 4, 5}\n"
          ]
        }
      ]
    },
    {
      "cell_type": "code",
      "source": [
        "#20. Write a code to find the intersection of two sets {1, 2, 3} and {2, 3, 4}.\n",
        "#Ans:\n",
        "set1 = {1, 2, 3}\n",
        "set2 = {2, 3, 4}\n",
        "intersection_set = set1.intersection(set2)\n",
        "print(intersection_set)\n"
      ],
      "metadata": {
        "colab": {
          "base_uri": "https://localhost:8080/"
        },
        "id": "qM45AxbV39Oq",
        "outputId": "b708cd5d-3ad9-4176-817d-8899d32bcf1e"
      },
      "execution_count": null,
      "outputs": [
        {
          "output_type": "stream",
          "name": "stdout",
          "text": [
            "{2, 3}\n"
          ]
        }
      ]
    },
    {
      "cell_type": "code",
      "source": [
        "#21. Write a code to create a dictionary with the keys \"name\", \"age\", and \"city\", and print it.\n",
        "#Ans:\n",
        "d = {'name': 'Pubalee', 'age': 31, 'city': 'Guwahati'}\n",
        "\n",
        "a = list(d.keys())\n",
        "\n",
        "print(a)\n"
      ],
      "metadata": {
        "colab": {
          "base_uri": "https://localhost:8080/"
        },
        "id": "rrsIzTPj3_CR",
        "outputId": "386b0dca-c43b-4a90-cfdb-85ad3311b312"
      },
      "execution_count": null,
      "outputs": [
        {
          "output_type": "stream",
          "name": "stdout",
          "text": [
            "['name', 'age', 'city']\n"
          ]
        }
      ]
    },
    {
      "cell_type": "code",
      "source": [
        "#22. Write a code to add a new key-value pair \"country\": \"USA\" to the dictionary {'name': 'John', 'age': 25}.\n",
        "#Ans:\n",
        "my_dict = {'name': 'John', 'age': 25}\n",
        "my_dict['country'] = 'USA'\n",
        "print(my_dict)"
      ],
      "metadata": {
        "colab": {
          "base_uri": "https://localhost:8080/"
        },
        "id": "miJAskIn4AdY",
        "outputId": "5accbe2d-f4f5-42da-e454-849618fa4235"
      },
      "execution_count": null,
      "outputs": [
        {
          "output_type": "stream",
          "name": "stdout",
          "text": [
            "{'name': 'John', 'age': 25, 'country': 'USA'}\n"
          ]
        }
      ]
    },
    {
      "cell_type": "code",
      "source": [
        "#23. Write a code to access the value associated with the key \"name\" in the dictionary {'name': 'Alice', 'age': 30}.\n",
        "#Ans:\n",
        "my_dict = {\"name\": \"alice\", \"age\": 30}\n",
        "name_value = my_dict[\"name\"]\n",
        "print(name_value)"
      ],
      "metadata": {
        "colab": {
          "base_uri": "https://localhost:8080/"
        },
        "id": "wSRJNpgs4B6l",
        "outputId": "2e4a8749-3217-4bb3-bb4f-5c62a53fe873"
      },
      "execution_count": null,
      "outputs": [
        {
          "output_type": "stream",
          "name": "stdout",
          "text": [
            "alice\n"
          ]
        }
      ]
    },
    {
      "cell_type": "code",
      "source": [
        "#24. Write a code to remove the key \"age\" from the dictionary {'name': 'Bob', 'age': 22, 'city': 'New York'}.\n",
        "#Ans:\n",
        "my_dict = {'name': 'Bob', 'age': 22, 'city': 'New York'}\n",
        "del my_dict[\"age\"]\n",
        "print(my_dict)"
      ],
      "metadata": {
        "colab": {
          "base_uri": "https://localhost:8080/"
        },
        "id": "T-BIuDqf4Di0",
        "outputId": "ecd414d6-4335-4eb9-92fa-580dbe71cbda"
      },
      "execution_count": null,
      "outputs": [
        {
          "output_type": "stream",
          "name": "stdout",
          "text": [
            "{'name': 'Bob', 'city': 'New York'}\n"
          ]
        }
      ]
    },
    {
      "cell_type": "code",
      "source": [
        "#25. Write a code to check if the key \"city\" exists in the dictionary {'name': 'Alice', 'city': 'Paris'}.\n",
        "#Ans:\n",
        "\n",
        "a = {'name': 'Alice', 'city': 'Paris'}\n",
        "\n",
        "if \"city\" in a:\n",
        "    print(\"Key exists.\")\n",
        "else:\n",
        "    print(\"Key does not exist.\")\n"
      ],
      "metadata": {
        "colab": {
          "base_uri": "https://localhost:8080/"
        },
        "id": "HjjK9K_P4FXk",
        "outputId": "1807de91-01e6-4577-99ea-9d83abc10328"
      },
      "execution_count": null,
      "outputs": [
        {
          "output_type": "stream",
          "name": "stdout",
          "text": [
            "Key exists.\n"
          ]
        }
      ]
    },
    {
      "cell_type": "code",
      "source": [
        "#26. Write a code to create a list, a tuple, and a dictionary, and print them all.\n",
        "#Ans:\n",
        "a_list=[\"a\",\"b\",\"c\"]\n",
        "a_tuple=(\"a\",\"b\",\"c\")\n",
        "a_set={\"a\",\"b\",\"c\"}\n",
        "\n",
        "print(a_list,a_tuple,a_set)\n"
      ],
      "metadata": {
        "colab": {
          "base_uri": "https://localhost:8080/"
        },
        "id": "v2g09aTQ4JDR",
        "outputId": "4acf416a-74a8-479f-b721-98d0f82de892"
      },
      "execution_count": null,
      "outputs": [
        {
          "output_type": "stream",
          "name": "stdout",
          "text": [
            "['a', 'b', 'c'] ('a', 'b', 'c') {'c', 'a', 'b'}\n"
          ]
        }
      ]
    },
    {
      "cell_type": "code",
      "source": [
        "#27. Write a code to create a list of 5 random numbers between 1 and 100, sort it in ascending order, and print the result.(replaced)\n",
        "#Ans:\n",
        "import random\n",
        "random_numbers = [random.randint(1, 100) for _ in range(5)]\n",
        "random_numbers.sort()\n",
        "print(random_numbers)"
      ],
      "metadata": {
        "colab": {
          "base_uri": "https://localhost:8080/"
        },
        "id": "E1aGL7Eo4L6S",
        "outputId": "49ffe9ef-f278-4cbe-dd96-47f62b9b5c8e"
      },
      "execution_count": null,
      "outputs": [
        {
          "output_type": "stream",
          "name": "stdout",
          "text": [
            "[3, 35, 69, 72, 92]\n"
          ]
        }
      ]
    },
    {
      "cell_type": "code",
      "source": [
        "#28. Write a code to create a list with strings and print the element at the third index.\n",
        "#Ans:\n",
        "a_list=[\"a\",\"b\",\"c\"]\n",
        "# access the third element\n",
        "print('third element =', a_list[2])"
      ],
      "metadata": {
        "colab": {
          "base_uri": "https://localhost:8080/"
        },
        "id": "Ht-YNuKn4NhM",
        "outputId": "70b52720-c31f-476e-d2f5-f6dfb49a3af4"
      },
      "execution_count": null,
      "outputs": [
        {
          "output_type": "stream",
          "name": "stdout",
          "text": [
            "third element = c\n"
          ]
        }
      ]
    },
    {
      "cell_type": "code",
      "source": [
        "#29. Write a code to combine two dictionaries into one and print the result.\n",
        "#Ans:\n",
        "dict_a = {'a': 1, 'b': 2}\n",
        "dict_b = {'b': 3, 'c': 4}\n",
        "\n",
        "print(dict_a | dict_b)"
      ],
      "metadata": {
        "colab": {
          "base_uri": "https://localhost:8080/"
        },
        "id": "jpN4OYS44PDh",
        "outputId": "b56b0e49-4798-4370-ff98-fef7c04a774c"
      },
      "execution_count": null,
      "outputs": [
        {
          "output_type": "stream",
          "name": "stdout",
          "text": [
            "{'a': 1, 'b': 3, 'c': 4}\n"
          ]
        }
      ]
    },
    {
      "cell_type": "code",
      "source": [
        "#30. Write a code to convert a list of strings into a set.\n",
        "#Ans:\n",
        "string_list = [\"a\", \"b\",\"c\",\"d\"]\n",
        "\n",
        "string_set = set(string_list)\n",
        "\n",
        "# Print the resulting set\n",
        "print(string_set)\n"
      ],
      "metadata": {
        "colab": {
          "base_uri": "https://localhost:8080/"
        },
        "id": "yRGNO9JCykkr",
        "outputId": "61af0d34-0f7f-4c14-d5ea-1969275397d7"
      },
      "execution_count": null,
      "outputs": [
        {
          "output_type": "stream",
          "name": "stdout",
          "text": [
            "{'d', 'c', 'a', 'b'}\n"
          ]
        }
      ]
    }
  ]
}